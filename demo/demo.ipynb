{
 "cells": [
  {
   "cell_type": "code",
   "execution_count": 18,
   "metadata": {},
   "outputs": [],
   "source": [
    "import numpy as np\n",
    "import pandas as pd"
   ]
  },
  {
   "cell_type": "code",
   "execution_count": 19,
   "metadata": {},
   "outputs": [],
   "source": [
    "from TWMR import TWMR\n",
    "from revTWMR import revTWMR"
   ]
  },
  {
   "cell_type": "markdown",
   "metadata": {},
   "source": [
    "# TWMR package usage"
   ]
  },
  {
   "cell_type": "markdown",
   "metadata": {},
   "source": [
    "We shall provide matrix of standardized effects of QTLS on gene expression."
   ]
  },
  {
   "cell_type": "code",
   "execution_count": 20,
   "metadata": {},
   "outputs": [],
   "source": [
    "effect = pd.read_csv('data/TWMR/ENSG00000000419.matrix', sep='\\t', index_col=0)"
   ]
  },
  {
   "cell_type": "markdown",
   "metadata": {},
   "source": [
    "Matrix looks like this.\n",
    "\n",
    "Each column represents one gene, last column called `GWAS` represents standardized effect of each QTL on studied trait.  \n",
    "Each row is QTL with qtl labels as indicies for rows."
   ]
  },
  {
   "cell_type": "code",
   "execution_count": 21,
   "metadata": {},
   "outputs": [
    {
     "data": {
      "text/html": [
       "<div>\n",
       "<style scoped>\n",
       "    .dataframe tbody tr th:only-of-type {\n",
       "        vertical-align: middle;\n",
       "    }\n",
       "\n",
       "    .dataframe tbody tr th {\n",
       "        vertical-align: top;\n",
       "    }\n",
       "\n",
       "    .dataframe thead th {\n",
       "        text-align: right;\n",
       "    }\n",
       "</style>\n",
       "<table border=\"1\" class=\"dataframe\">\n",
       "  <thead>\n",
       "    <tr style=\"text-align: right;\">\n",
       "      <th></th>\n",
       "      <th>ENSG00000000419</th>\n",
       "      <th>ENSG00000101126</th>\n",
       "      <th>GWAS</th>\n",
       "    </tr>\n",
       "    <tr>\n",
       "      <th>SNPS</th>\n",
       "      <th></th>\n",
       "      <th></th>\n",
       "      <th></th>\n",
       "    </tr>\n",
       "  </thead>\n",
       "  <tbody>\n",
       "    <tr>\n",
       "      <th>rs7268202</th>\n",
       "      <td>0.000000</td>\n",
       "      <td>-0.028909</td>\n",
       "      <td>0.002336</td>\n",
       "    </tr>\n",
       "    <tr>\n",
       "      <th>rs6013040</th>\n",
       "      <td>-0.026739</td>\n",
       "      <td>0.032592</td>\n",
       "      <td>-0.005177</td>\n",
       "    </tr>\n",
       "    <tr>\n",
       "      <th>rs2426214</th>\n",
       "      <td>-0.051089</td>\n",
       "      <td>0.000000</td>\n",
       "      <td>0.004599</td>\n",
       "    </tr>\n",
       "  </tbody>\n",
       "</table>\n",
       "</div>"
      ],
      "text/plain": [
       "           ENSG00000000419  ENSG00000101126      GWAS\n",
       "SNPS                                                 \n",
       "rs7268202         0.000000        -0.028909  0.002336\n",
       "rs6013040        -0.026739         0.032592 -0.005177\n",
       "rs2426214        -0.051089         0.000000  0.004599"
      ]
     },
     "execution_count": 21,
     "metadata": {},
     "output_type": "execute_result"
    }
   ],
   "source": [
    "effect.head()"
   ]
  },
  {
   "cell_type": "markdown",
   "metadata": {},
   "source": [
    "Also we have to provide LD correlation matrix, as numpy array:"
   ]
  },
  {
   "cell_type": "code",
   "execution_count": 22,
   "metadata": {},
   "outputs": [],
   "source": [
    "ld = pd.read_csv('data/TWMR/ENSG00000000419.ld', sep='\\t', header=None).to_numpy().astype(np.float32)"
   ]
  },
  {
   "cell_type": "markdown",
   "metadata": {},
   "source": [
    "which looks like this:"
   ]
  },
  {
   "cell_type": "code",
   "execution_count": 23,
   "metadata": {},
   "outputs": [
    {
     "data": {
      "text/plain": [
       "array([[1.       , 0.0487694, 0.151668 ],\n",
       "       [0.0487694, 1.       , 0.118453 ],\n",
       "       [0.151668 , 0.118453 , 1.       ]], dtype=float32)"
      ]
     },
     "execution_count": 23,
     "metadata": {},
     "output_type": "execute_result"
    }
   ],
   "source": [
    "ld"
   ]
  },
  {
   "cell_type": "markdown",
   "metadata": {},
   "source": [
    "And set a sizes of GWAS and QTLs studies used for analysis:"
   ]
  },
  {
   "cell_type": "code",
   "execution_count": 24,
   "metadata": {},
   "outputs": [],
   "source": [
    "nGWAS=239087\n",
    "nQTLs = 32000"
   ]
  },
  {
   "cell_type": "markdown",
   "metadata": {},
   "source": [
    "Everything is in place, run analysis:"
   ]
  },
  {
   "cell_type": "code",
   "execution_count": 25,
   "metadata": {},
   "outputs": [],
   "source": [
    "result = TWMR(\n",
    "        beta=effect.drop('GWAS', axis=1).to_numpy(), \n",
    "        gamma=effect['GWAS'].to_numpy(), \n",
    "        nEQTLs=nQTLs, \n",
    "        NGwas=nGWAS, \n",
    "        ldMatrix=ld, \n",
    "        pseudoInverse=False, \n",
    "        device='cpu')"
   ]
  },
  {
   "cell_type": "markdown",
   "metadata": {},
   "source": [
    "Result is a standard python's `namedtuple`  \n",
    "Attributes:\n",
    "* Alpha : Causal effect estimated by TWMR.\n",
    "* Se : Standard error of Alpha.\n",
    "* Pval : P-value calculated from Alpha and Se.\n",
    "* D : Cohrian Q statistics for QTLs.\n",
    "* HetP : P-value for heterogeneity test.   "
   ]
  },
  {
   "cell_type": "markdown",
   "metadata": {},
   "source": [
    "And, nicer output:"
   ]
  },
  {
   "cell_type": "code",
   "execution_count": 26,
   "metadata": {},
   "outputs": [
    {
     "data": {
      "text/html": [
       "<div>\n",
       "<style scoped>\n",
       "    .dataframe tbody tr th:only-of-type {\n",
       "        vertical-align: middle;\n",
       "    }\n",
       "\n",
       "    .dataframe tbody tr th {\n",
       "        vertical-align: top;\n",
       "    }\n",
       "\n",
       "    .dataframe thead th {\n",
       "        text-align: right;\n",
       "    }\n",
       "</style>\n",
       "<table border=\"1\" class=\"dataframe\">\n",
       "  <thead>\n",
       "    <tr style=\"text-align: right;\">\n",
       "      <th></th>\n",
       "      <th>Gene</th>\n",
       "      <th>Alpha</th>\n",
       "      <th>Standard error</th>\n",
       "      <th>p-value</th>\n",
       "      <th>Heterogenity p-value</th>\n",
       "    </tr>\n",
       "  </thead>\n",
       "  <tbody>\n",
       "    <tr>\n",
       "      <th>0</th>\n",
       "      <td>ENSG00000000419</td>\n",
       "      <td>-0.005793</td>\n",
       "      <td>0.006162</td>\n",
       "      <td>0.347168</td>\n",
       "      <td>1.0</td>\n",
       "    </tr>\n",
       "    <tr>\n",
       "      <th>1</th>\n",
       "      <td>ENSG00000101126</td>\n",
       "      <td>-0.013730</td>\n",
       "      <td>0.005420</td>\n",
       "      <td>0.011305</td>\n",
       "      <td>1.0</td>\n",
       "    </tr>\n",
       "  </tbody>\n",
       "</table>\n",
       "</div>"
      ],
      "text/plain": [
       "              Gene     Alpha  Standard error   p-value  Heterogenity p-value\n",
       "0  ENSG00000000419 -0.005793        0.006162  0.347168                   1.0\n",
       "1  ENSG00000101126 -0.013730        0.005420  0.011305                   1.0"
      ]
     },
     "metadata": {},
     "output_type": "display_data"
    }
   ],
   "source": [
    "result_df = pd.DataFrame()\n",
    "result_df['Gene'] = effect.columns.drop('GWAS')\n",
    "result_df['Alpha'] = result.Alpha\n",
    "result_df['Standard error'] = result.Se\n",
    "result_df['p-value'] = result.Pval\n",
    "result_df['Heterogenity p-value'] = result.HetP\n",
    "display(result_df)"
   ]
  },
  {
   "cell_type": "markdown",
   "metadata": {},
   "source": [
    "------------------------\n",
    "\n",
    "# RevTWMR package usage\n",
    "\n",
    "\n",
    "Again, we shall provide matrix of standardized effects of QTLS on gene expression."
   ]
  },
  {
   "cell_type": "code",
   "execution_count": 27,
   "metadata": {},
   "outputs": [],
   "source": [
    "effect = pd.read_csv(\"data/revTWMR/effect.matrix.tsv\", sep='\\t', index_col=0)\n"
   ]
  },
  {
   "cell_type": "markdown",
   "metadata": {},
   "source": [
    "This time, table contains standardized QTL effect for each gene, standardized effect for GWAS, standard error of the effect and number of samples in GWAS study."
   ]
  },
  {
   "cell_type": "code",
   "execution_count": 28,
   "metadata": {},
   "outputs": [
    {
     "data": {
      "text/html": [
       "<div>\n",
       "<style scoped>\n",
       "    .dataframe tbody tr th:only-of-type {\n",
       "        vertical-align: middle;\n",
       "    }\n",
       "\n",
       "    .dataframe tbody tr th {\n",
       "        vertical-align: top;\n",
       "    }\n",
       "\n",
       "    .dataframe thead th {\n",
       "        text-align: right;\n",
       "    }\n",
       "</style>\n",
       "<table border=\"1\" class=\"dataframe\">\n",
       "  <thead>\n",
       "    <tr style=\"text-align: right;\">\n",
       "      <th></th>\n",
       "      <th>ENSG00000000003</th>\n",
       "      <th>ENSG00000000419</th>\n",
       "      <th>ENSG00000000457</th>\n",
       "      <th>ENSG00000000460</th>\n",
       "      <th>ENSG00000000938</th>\n",
       "      <th>ENSG00000000971</th>\n",
       "      <th>ENSG00000001036</th>\n",
       "      <th>ENSG00000001084</th>\n",
       "      <th>ENSG00000001167</th>\n",
       "      <th>ENSG00000001460</th>\n",
       "      <th>...</th>\n",
       "      <th>ENSG00000270167</th>\n",
       "      <th>ENSG00000270170</th>\n",
       "      <th>ENSG00000270172</th>\n",
       "      <th>ENSG00000270175</th>\n",
       "      <th>ENSG00000270177</th>\n",
       "      <th>ENSG00000270179</th>\n",
       "      <th>ENSG00000270184</th>\n",
       "      <th>BETA_GWAS</th>\n",
       "      <th>SE</th>\n",
       "      <th>N</th>\n",
       "    </tr>\n",
       "    <tr>\n",
       "      <th>SNP</th>\n",
       "      <th></th>\n",
       "      <th></th>\n",
       "      <th></th>\n",
       "      <th></th>\n",
       "      <th></th>\n",
       "      <th></th>\n",
       "      <th></th>\n",
       "      <th></th>\n",
       "      <th></th>\n",
       "      <th></th>\n",
       "      <th></th>\n",
       "      <th></th>\n",
       "      <th></th>\n",
       "      <th></th>\n",
       "      <th></th>\n",
       "      <th></th>\n",
       "      <th></th>\n",
       "      <th></th>\n",
       "      <th></th>\n",
       "      <th></th>\n",
       "      <th></th>\n",
       "    </tr>\n",
       "  </thead>\n",
       "  <tbody>\n",
       "    <tr>\n",
       "      <th>rs1421085</th>\n",
       "      <td>0.010424</td>\n",
       "      <td>-0.000291</td>\n",
       "      <td>-0.009326</td>\n",
       "      <td>-0.006210</td>\n",
       "      <td>0.008370</td>\n",
       "      <td>0.003784</td>\n",
       "      <td>-0.002304</td>\n",
       "      <td>0.002775</td>\n",
       "      <td>0.001868</td>\n",
       "      <td>0.011122</td>\n",
       "      <td>...</td>\n",
       "      <td>-0.009427</td>\n",
       "      <td>0.000016</td>\n",
       "      <td>-0.013146</td>\n",
       "      <td>0.004121</td>\n",
       "      <td>0.009272</td>\n",
       "      <td>0.000837</td>\n",
       "      <td>0.000911</td>\n",
       "      <td>0.050996</td>\n",
       "      <td>0.001667</td>\n",
       "      <td>359983</td>\n",
       "    </tr>\n",
       "    <tr>\n",
       "      <th>rs12967135</th>\n",
       "      <td>-0.007225</td>\n",
       "      <td>0.002163</td>\n",
       "      <td>0.003903</td>\n",
       "      <td>0.003141</td>\n",
       "      <td>-0.001353</td>\n",
       "      <td>0.000684</td>\n",
       "      <td>-0.007229</td>\n",
       "      <td>-0.006119</td>\n",
       "      <td>-0.001645</td>\n",
       "      <td>0.002090</td>\n",
       "      <td>...</td>\n",
       "      <td>-0.012976</td>\n",
       "      <td>-0.000828</td>\n",
       "      <td>0.015115</td>\n",
       "      <td>-0.000321</td>\n",
       "      <td>-0.004691</td>\n",
       "      <td>0.016114</td>\n",
       "      <td>0.010373</td>\n",
       "      <td>0.032377</td>\n",
       "      <td>0.001667</td>\n",
       "      <td>359983</td>\n",
       "    </tr>\n",
       "    <tr>\n",
       "      <th>rs12463617</th>\n",
       "      <td>-0.008345</td>\n",
       "      <td>-0.008935</td>\n",
       "      <td>0.004012</td>\n",
       "      <td>0.003909</td>\n",
       "      <td>-0.003861</td>\n",
       "      <td>0.000139</td>\n",
       "      <td>0.006580</td>\n",
       "      <td>0.008313</td>\n",
       "      <td>-0.001529</td>\n",
       "      <td>-0.001600</td>\n",
       "      <td>...</td>\n",
       "      <td>-0.020190</td>\n",
       "      <td>-0.000314</td>\n",
       "      <td>0.014615</td>\n",
       "      <td>0.001792</td>\n",
       "      <td>-0.018654</td>\n",
       "      <td>0.006185</td>\n",
       "      <td>0.019847</td>\n",
       "      <td>-0.028158</td>\n",
       "      <td>0.001667</td>\n",
       "      <td>359983</td>\n",
       "    </tr>\n",
       "    <tr>\n",
       "      <th>rs543874</th>\n",
       "      <td>0.001516</td>\n",
       "      <td>-0.004459</td>\n",
       "      <td>-0.011000</td>\n",
       "      <td>0.000491</td>\n",
       "      <td>-0.000259</td>\n",
       "      <td>-0.003478</td>\n",
       "      <td>0.002421</td>\n",
       "      <td>-0.005493</td>\n",
       "      <td>-0.008331</td>\n",
       "      <td>-0.008748</td>\n",
       "      <td>...</td>\n",
       "      <td>-0.030773</td>\n",
       "      <td>-0.014313</td>\n",
       "      <td>-0.011587</td>\n",
       "      <td>0.023924</td>\n",
       "      <td>0.002606</td>\n",
       "      <td>-0.005619</td>\n",
       "      <td>-0.040796</td>\n",
       "      <td>0.027852</td>\n",
       "      <td>0.001667</td>\n",
       "      <td>359983</td>\n",
       "    </tr>\n",
       "    <tr>\n",
       "      <th>rs713586</th>\n",
       "      <td>-0.005947</td>\n",
       "      <td>-0.004387</td>\n",
       "      <td>-0.006228</td>\n",
       "      <td>0.005699</td>\n",
       "      <td>-0.006790</td>\n",
       "      <td>-0.010466</td>\n",
       "      <td>0.000394</td>\n",
       "      <td>-0.005812</td>\n",
       "      <td>-0.005693</td>\n",
       "      <td>-0.004187</td>\n",
       "      <td>...</td>\n",
       "      <td>-0.009529</td>\n",
       "      <td>-0.019617</td>\n",
       "      <td>0.002262</td>\n",
       "      <td>-0.030201</td>\n",
       "      <td>0.011784</td>\n",
       "      <td>0.000516</td>\n",
       "      <td>0.026635</td>\n",
       "      <td>0.024829</td>\n",
       "      <td>0.001667</td>\n",
       "      <td>359983</td>\n",
       "    </tr>\n",
       "  </tbody>\n",
       "</table>\n",
       "<p>5 rows × 19945 columns</p>\n",
       "</div>"
      ],
      "text/plain": [
       "            ENSG00000000003  ENSG00000000419  ENSG00000000457  \\\n",
       "SNP                                                             \n",
       "rs1421085          0.010424        -0.000291        -0.009326   \n",
       "rs12967135        -0.007225         0.002163         0.003903   \n",
       "rs12463617        -0.008345        -0.008935         0.004012   \n",
       "rs543874           0.001516        -0.004459        -0.011000   \n",
       "rs713586          -0.005947        -0.004387        -0.006228   \n",
       "\n",
       "            ENSG00000000460  ENSG00000000938  ENSG00000000971  \\\n",
       "SNP                                                             \n",
       "rs1421085         -0.006210         0.008370         0.003784   \n",
       "rs12967135         0.003141        -0.001353         0.000684   \n",
       "rs12463617         0.003909        -0.003861         0.000139   \n",
       "rs543874           0.000491        -0.000259        -0.003478   \n",
       "rs713586           0.005699        -0.006790        -0.010466   \n",
       "\n",
       "            ENSG00000001036  ENSG00000001084  ENSG00000001167  \\\n",
       "SNP                                                             \n",
       "rs1421085         -0.002304         0.002775         0.001868   \n",
       "rs12967135        -0.007229        -0.006119        -0.001645   \n",
       "rs12463617         0.006580         0.008313        -0.001529   \n",
       "rs543874           0.002421        -0.005493        -0.008331   \n",
       "rs713586           0.000394        -0.005812        -0.005693   \n",
       "\n",
       "            ENSG00000001460  ...  ENSG00000270167  ENSG00000270170  \\\n",
       "SNP                          ...                                     \n",
       "rs1421085          0.011122  ...        -0.009427         0.000016   \n",
       "rs12967135         0.002090  ...        -0.012976        -0.000828   \n",
       "rs12463617        -0.001600  ...        -0.020190        -0.000314   \n",
       "rs543874          -0.008748  ...        -0.030773        -0.014313   \n",
       "rs713586          -0.004187  ...        -0.009529        -0.019617   \n",
       "\n",
       "            ENSG00000270172  ENSG00000270175  ENSG00000270177  \\\n",
       "SNP                                                             \n",
       "rs1421085         -0.013146         0.004121         0.009272   \n",
       "rs12967135         0.015115        -0.000321        -0.004691   \n",
       "rs12463617         0.014615         0.001792        -0.018654   \n",
       "rs543874          -0.011587         0.023924         0.002606   \n",
       "rs713586           0.002262        -0.030201         0.011784   \n",
       "\n",
       "            ENSG00000270179  ENSG00000270184  BETA_GWAS        SE       N  \n",
       "SNP                                                                        \n",
       "rs1421085          0.000837         0.000911   0.050996  0.001667  359983  \n",
       "rs12967135         0.016114         0.010373   0.032377  0.001667  359983  \n",
       "rs12463617         0.006185         0.019847  -0.028158  0.001667  359983  \n",
       "rs543874          -0.005619        -0.040796   0.027852  0.001667  359983  \n",
       "rs713586           0.000516         0.026635   0.024829  0.001667  359983  \n",
       "\n",
       "[5 rows x 19945 columns]"
      ]
     },
     "execution_count": 28,
     "metadata": {},
     "output_type": "execute_result"
    }
   ],
   "source": [
    "effect.head()"
   ]
  },
  {
   "cell_type": "code",
   "execution_count": 29,
   "metadata": {},
   "outputs": [],
   "source": [
    "gwasEffect = effect.BETA_GWAS.values\n",
    "nGwas = effect.N.values"
   ]
  },
  {
   "cell_type": "markdown",
   "metadata": {},
   "source": [
    "This time we have to provide `standardized` study size for each gene."
   ]
  },
  {
   "cell_type": "code",
   "execution_count": 30,
   "metadata": {},
   "outputs": [],
   "source": [
    "sample_size = pd.read_csv(\"data/revTWMR/genes.N.tsv\", sep='\\t', index_col=0).N.to_dict()"
   ]
  },
  {
   "cell_type": "markdown",
   "metadata": {},
   "source": [
    "Let's run it for first 5 genes:"
   ]
  },
  {
   "cell_type": "code",
   "execution_count": 31,
   "metadata": {},
   "outputs": [],
   "source": [
    "results = {}\n",
    "for gene in effect.drop(['BETA_GWAS', 'SE', 'N'], axis=1).columns[:5]:    \n",
    "    effectTbl = effect.drop(['BETA_GWAS', 'SE', 'N'], axis=1)[gene].values\n",
    "    nQtls = sample_size[gene]\n",
    "    \n",
    "    result = revTWMR(\n",
    "        effectTbl, \n",
    "        gwasEffect, \n",
    "        qtlLabels=effect.index.values, \n",
    "        gwasSizes=nGwas, \n",
    "        qtlExpSize=nQtls,\n",
    "        pValIterativeThreshold=0.05, \n",
    "        pseudoInverse=False, device='cpu')\n",
    "    \n",
    "    results[gene] = {\n",
    "        'Alpha Original': result.Alpha,\n",
    "        'SE Original': result.Se,\n",
    "        'P Value Original': result.Pval,\n",
    "        'N Original': result.N,\n",
    "        'P heterogeneity Original': result.HetP,\n",
    "        'Alpha': result.AlphaIterative,\n",
    "        'SE': result.SeIterative,\n",
    "        'P': result.PvalIterative,\n",
    "        'P heterogeneity': result.HetPIterative,\n",
    "        'N': len(result.rsname)\n",
    "    }"
   ]
  },
  {
   "cell_type": "markdown",
   "metadata": {},
   "source": [
    "This time result would be:"
   ]
  },
  {
   "cell_type": "code",
   "execution_count": 32,
   "metadata": {},
   "outputs": [
    {
     "data": {
      "text/html": [
       "<div>\n",
       "<style scoped>\n",
       "    .dataframe tbody tr th:only-of-type {\n",
       "        vertical-align: middle;\n",
       "    }\n",
       "\n",
       "    .dataframe tbody tr th {\n",
       "        vertical-align: top;\n",
       "    }\n",
       "\n",
       "    .dataframe thead th {\n",
       "        text-align: right;\n",
       "    }\n",
       "</style>\n",
       "<table border=\"1\" class=\"dataframe\">\n",
       "  <thead>\n",
       "    <tr style=\"text-align: right;\">\n",
       "      <th></th>\n",
       "      <th>Alpha Original</th>\n",
       "      <th>SE Original</th>\n",
       "      <th>P Value Original</th>\n",
       "      <th>N Original</th>\n",
       "      <th>P heterogeneity Original</th>\n",
       "      <th>Alpha</th>\n",
       "      <th>SE</th>\n",
       "      <th>P</th>\n",
       "      <th>P heterogeneity</th>\n",
       "      <th>N</th>\n",
       "    </tr>\n",
       "  </thead>\n",
       "  <tbody>\n",
       "    <tr>\n",
       "      <th>ENSG00000000003</th>\n",
       "      <td>-0.024712</td>\n",
       "      <td>0.068517</td>\n",
       "      <td>0.718346</td>\n",
       "      <td>101.0</td>\n",
       "      <td>1.000000</td>\n",
       "      <td>-0.024712</td>\n",
       "      <td>0.068517</td>\n",
       "      <td>0.718346</td>\n",
       "      <td>1.000000</td>\n",
       "      <td>101</td>\n",
       "    </tr>\n",
       "    <tr>\n",
       "      <th>ENSG00000000419</th>\n",
       "      <td>-0.042308</td>\n",
       "      <td>0.035751</td>\n",
       "      <td>0.236646</td>\n",
       "      <td>123.0</td>\n",
       "      <td>0.957932</td>\n",
       "      <td>-0.042308</td>\n",
       "      <td>0.035751</td>\n",
       "      <td>0.236646</td>\n",
       "      <td>0.957932</td>\n",
       "      <td>123</td>\n",
       "    </tr>\n",
       "    <tr>\n",
       "      <th>ENSG00000000457</th>\n",
       "      <td>0.007607</td>\n",
       "      <td>0.035183</td>\n",
       "      <td>0.828817</td>\n",
       "      <td>123.0</td>\n",
       "      <td>0.942955</td>\n",
       "      <td>0.007607</td>\n",
       "      <td>0.035183</td>\n",
       "      <td>0.828817</td>\n",
       "      <td>0.942955</td>\n",
       "      <td>123</td>\n",
       "    </tr>\n",
       "    <tr>\n",
       "      <th>ENSG00000000460</th>\n",
       "      <td>-0.042934</td>\n",
       "      <td>0.035112</td>\n",
       "      <td>0.221417</td>\n",
       "      <td>123.0</td>\n",
       "      <td>0.999823</td>\n",
       "      <td>-0.042934</td>\n",
       "      <td>0.035112</td>\n",
       "      <td>0.221417</td>\n",
       "      <td>0.999823</td>\n",
       "      <td>123</td>\n",
       "    </tr>\n",
       "    <tr>\n",
       "      <th>ENSG00000000938</th>\n",
       "      <td>0.023117</td>\n",
       "      <td>0.035309</td>\n",
       "      <td>0.512657</td>\n",
       "      <td>122.0</td>\n",
       "      <td>0.945195</td>\n",
       "      <td>0.023117</td>\n",
       "      <td>0.035309</td>\n",
       "      <td>0.512657</td>\n",
       "      <td>0.945195</td>\n",
       "      <td>122</td>\n",
       "    </tr>\n",
       "  </tbody>\n",
       "</table>\n",
       "</div>"
      ],
      "text/plain": [
       "                 Alpha Original  SE Original  P Value Original  N Original  \\\n",
       "ENSG00000000003       -0.024712     0.068517          0.718346       101.0   \n",
       "ENSG00000000419       -0.042308     0.035751          0.236646       123.0   \n",
       "ENSG00000000457        0.007607     0.035183          0.828817       123.0   \n",
       "ENSG00000000460       -0.042934     0.035112          0.221417       123.0   \n",
       "ENSG00000000938        0.023117     0.035309          0.512657       122.0   \n",
       "\n",
       "                 P heterogeneity Original     Alpha        SE         P  \\\n",
       "ENSG00000000003                  1.000000 -0.024712  0.068517  0.718346   \n",
       "ENSG00000000419                  0.957932 -0.042308  0.035751  0.236646   \n",
       "ENSG00000000457                  0.942955  0.007607  0.035183  0.828817   \n",
       "ENSG00000000460                  0.999823 -0.042934  0.035112  0.221417   \n",
       "ENSG00000000938                  0.945195  0.023117  0.035309  0.512657   \n",
       "\n",
       "                 P heterogeneity    N  \n",
       "ENSG00000000003         1.000000  101  \n",
       "ENSG00000000419         0.957932  123  \n",
       "ENSG00000000457         0.942955  123  \n",
       "ENSG00000000460         0.999823  123  \n",
       "ENSG00000000938         0.945195  122  "
      ]
     },
     "execution_count": 32,
     "metadata": {},
     "output_type": "execute_result"
    }
   ],
   "source": [
    "pd.DataFrame.from_dict(results, orient='index')"
   ]
  }
 ],
 "metadata": {
  "kernelspec": {
   "display_name": ".venv",
   "language": "python",
   "name": "python3"
  },
  "language_info": {
   "codemirror_mode": {
    "name": "ipython",
    "version": 3
   },
   "file_extension": ".py",
   "mimetype": "text/x-python",
   "name": "python",
   "nbconvert_exporter": "python",
   "pygments_lexer": "ipython3",
   "version": "3.10.12"
  }
 },
 "nbformat": 4,
 "nbformat_minor": 2
}
